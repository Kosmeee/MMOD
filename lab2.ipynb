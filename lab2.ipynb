{
 "cells": [
  {
   "cell_type": "code",
   "execution_count": 10,
   "id": "transsexual-phrase",
   "metadata": {},
   "outputs": [],
   "source": [
    "import numpy as np\n",
    "import seaborn as sns\n",
    "import matplotlib.pyplot as plt\n",
    "from heapq import heappush, heappop\n",
    "from numpy.random import exponential"
   ]
  },
  {
   "cell_type": "code",
   "execution_count": 34,
   "id": "according-librarian",
   "metadata": {},
   "outputs": [],
   "source": [
    "class Simulator:\n",
    "    def __init__(self, n_channels, queue_size, arr_rate, serv_rate, rej_rate):\n",
    "        self.arr_rate = arr_rate\n",
    "        self.serv_rate = serv_rate\n",
    "        self.rej_rate = rej_rate\n",
    "        self.n_channels = n_channels\n",
    "        self.queue_size = queue_size\n",
    "        self.rejections = 0\n",
    "        self.successes = 0\n",
    "        self.events = []\n",
    "        self.states = np.zeros(n_channels + queue_size + 1)\n",
    "\n",
    "    def start(self, max_time):\n",
    "        self.events.clear()\n",
    "        self.rejections = 0\n",
    "        self.successes = 0\n",
    "        self.events.append(('arrival', 0, exponential(1. / self.arr_rate), 0))\n",
    "        self.states.fill(0)\n",
    "        clients_count = 1\n",
    "        customers_waiting = []\n",
    "        busy_n_channels = 0\n",
    "        time_ = 0.\n",
    "        while time_ < max_time:\n",
    "            assert not customers_waiting or busy_n_channels == self.n_channels\n",
    "            event = self.events[0]\n",
    "            for i in range(1, len(self.events)):\n",
    "                if self.events[i][1] < event[1]:\n",
    "                    event = self.events[i]\n",
    "            self.events.remove(event)\n",
    "            state = busy_n_channels + len(customers_waiting)\n",
    "            self.states[state] += event[1] - time_\n",
    "            time_ = event[1]\n",
    "            if event[0] == 'arrival':\n",
    "                if busy_n_channels < self.n_channels:\n",
    "                    busy_n_channels += 1\n",
    "                    self.events.append((\n",
    "                        'service',\n",
    "                        time_ + exponential(1. / self.serv_rate),\n",
    "                        event[-1]\n",
    "                    ))\n",
    "                elif len(customers_waiting) < self.queue_size:\n",
    "                    customers_waiting.append(event[-1])\n",
    "                    self.events.append((\n",
    "                        'reject',\n",
    "                        time_ + exponential(1. / self.rej_rate),\n",
    "                        event[-1]\n",
    "                    ))\n",
    "                else:\n",
    "                    raise ValueError('Something went wrong: trying to add customer with full queue')\n",
    "                if len(customers_waiting) < self.queue_size:\n",
    "                    self.events.append((\n",
    "                        'arrival',\n",
    "                        time_ + exponential(1. / self.arr_rate),\n",
    "                        clients_count\n",
    "                    ))\n",
    "                    clients_count += 1\n",
    "            elif event[0] == 'service':\n",
    "                self.successes += 1\n",
    "                if customers_waiting:\n",
    "                    client = customers_waiting[0]\n",
    "                    if len(customers_waiting) == self.queue_size:\n",
    "                        self.events.append((\n",
    "                            'arrival',\n",
    "                            time_ + exponential(1. / self.arr_rate),\n",
    "                            clients_count\n",
    "                        ))\n",
    "                        clients_count += 1\n",
    "                    \n",
    "                    for event in self.events:\n",
    "                        if event[-1] == client:\n",
    "                            self.events.remove(event)\n",
    "                    \n",
    "                    customers_waiting.pop(0)\n",
    "                    self.events.append((\n",
    "                        'service',\n",
    "                        time_ + exponential(1. / self.serv_rate),\n",
    "                        client\n",
    "                    ))\n",
    "                else:\n",
    "                    busy_n_channels -= 1\n",
    "            elif event[0] == 'reject':\n",
    "                self.rejections += 1\n",
    "                if len(customers_waiting) == self.queue_size:\n",
    "                    self.events.append((\n",
    "                        'arrival',\n",
    "                        time_ + exponential(1. / self.arr_rate),\n",
    "                        clients_count\n",
    "                    ))\n",
    "                    clients_count += 1\n",
    "                \n",
    "                customers_waiting.remove(event[-1])\n",
    "\n",
    "    def get_results(self):\n",
    "        if np.sum(self.states) == 0:\n",
    "            raise ValueError('Simulation has not been running or no events happened')\n",
    "        return self.states / np.sum(self.states), self.successes, self.rejections\n",
    "\n",
    "    def __factorial(self, i: int) -> int:\n",
    "        if i == 0:\n",
    "            return 1\n",
    "        return np.prod(np.arange(1, i + 1)).item()\n",
    "\n",
    "    def main_value(self, idx: int) -> float:\n",
    "        return (self.arr_rate / self.serv_rate) ** idx / self.__factorial(idx)\n",
    "\n",
    "    def queue_value(self, idx: int) -> float:\n",
    "        return (self.arr_rate / self.serv_rate) ** idx / np.prod(\n",
    "            [self.n_channels + l * self.rej_rate / self.serv_rate for l in range(1, idx + 1)]\n",
    "        )\n",
    "\n",
    "    def theoretical_probas(self):\n",
    "        probas = np.zeros(self.n_channels + self.queue_size + 1, dtype='float64')\n",
    "        probas[0] = sum([self.main_value(i) for i in range(self.n_channels + 1)])\n",
    "        probas[0] += self.main_value(self.n_channels) * sum(\n",
    "            [self.queue_value(i) for i in range(1, 1 + self.queue_size)]\n",
    "        )\n",
    "        probas[0] = 1 / probas[0]\n",
    "        for i in range(1, self.n_channels + 1):\n",
    "            probas[i] = probas[0] * self.main_value(i)\n",
    "        for i in range(self.n_channels + 1, len(probas)):\n",
    "            probas[i] = probas[self.n_channels] * self.queue_value(i - self.n_channels)\n",
    "        assert np.allclose(np.sum(probas), 1., atol=1e-3)\n",
    "        return probas\n",
    "    \n",
    "    def get_stats(self, probas):\n",
    "        reject_proba = probas[self.n_channels] * self.main_value(1) ** self.queue_size / np.prod([\n",
    "            self.n_channels + l * self.rej_rate / self.serv_rate for l in range(1, self.queue_size + 1)\n",
    "        ])\n",
    "        Q = 1 - reject_proba\n",
    "        A = self.arr_rate * Q\n",
    "        avg_queue = sum(i * probas[i + self.n_channels] for i in range(1, self.queue_size + 1))\n",
    "        avg_busy_channels = self.n_channels * np.sum(probas[self.n_channels + 1:]) + sum(i * probas[i] for i in range(1, self.n_channels + 1))\n",
    "        avg_total = avg_queue + avg_busy_channels\n",
    "        avg_total_time = avg_total / self.arr_rate\n",
    "        avg_queue_time = avg_queue / self.arr_rate\n",
    "        return {\n",
    "            'Rejection probability': reject_proba,\n",
    "            'Absolute capacity': A,\n",
    "            'Average requests in queue': avg_queue,\n",
    "            'Average requests in system': avg_total,\n",
    "            'Average time in queue': avg_queue_time,\n",
    "            'Average time in system': avg_total_time,\n",
    "            'Average busy channels': avg_busy_channels\n",
    "        }"
   ]
  },
  {
   "cell_type": "markdown",
   "id": "4ce67701",
   "metadata": {},
   "source": [
    "## Первый эксперимент"
   ]
  },
  {
   "cell_type": "markdown",
   "id": "c0b2e368",
   "metadata": {},
   "source": [
    "Параметры эксперимента:\n",
    " * количество каналов - 5\n",
    " * размер очереди - 2\n",
    " * интенсивность прихода в систему - 1\n",
    " * интенсивность обслуживания - 0.1\n",
    " * интенсивность выхода из очереди необслужанным - 0.6\n",
    " * отрезок времени симуляции - с 0 до 10000"
   ]
  },
  {
   "cell_type": "code",
   "execution_count": 35,
   "id": "korean-romania",
   "metadata": {},
   "outputs": [],
   "source": [
    "simulator = Simulator(\n",
    "    n_channels=5,\n",
    "    queue_size=2,\n",
    "    arr_rate=1.,\n",
    "    serv_rate=0.1,\n",
    "    rej_rate=0.6\n",
    ")\n",
    "simulator.start(10000)\n",
    "probs, successes, failures = simulator.get_results()\n",
    "theoretical_probs = simulator.theoretical_probas()"
   ]
  },
  {
   "cell_type": "code",
   "execution_count": 36,
   "id": "identical-fancy",
   "metadata": {},
   "outputs": [
    {
     "data": {
      "text/plain": [
       "{'Rejection probability': 0.16892662678394474,\n",
       " 'Absolute capacity': 0.8310733732160552,\n",
       " 'Average requests in queue': 0.6116045983378788,\n",
       " 'Average requests in system': 5.27179832496068,\n",
       " 'Average time in queue': 0.6116045983378788,\n",
       " 'Average time in system': 5.27179832496068,\n",
       " 'Average busy channels': 4.6601937266228015}"
      ]
     },
     "execution_count": 36,
     "metadata": {},
     "output_type": "execute_result"
    }
   ],
   "source": [
    "simulator.get_stats(probs)"
   ]
  },
  {
   "cell_type": "code",
   "execution_count": 37,
   "id": "dutch-projection",
   "metadata": {},
   "outputs": [
    {
     "data": {
      "text/plain": [
       "{'Rejection probability': 0.1662266094226551,\n",
       " 'Absolute capacity': 0.8337733905773449,\n",
       " 'Average requests in queue': 0.6150384548638239,\n",
       " 'Average requests in system': 5.26254163145433,\n",
       " 'Average time in queue': 0.6150384548638239,\n",
       " 'Average time in system': 5.26254163145433,\n",
       " 'Average busy channels': 4.647503176590506}"
      ]
     },
     "execution_count": 37,
     "metadata": {},
     "output_type": "execute_result"
    }
   ],
   "source": [
    "simulator.get_stats(theoretical_probs)"
   ]
  },
  {
   "cell_type": "code",
   "execution_count": 38,
   "id": "comprehensive-",
   "metadata": {
    "scrolled": false
   },
   "outputs": [
    {
     "data": {
      "image/png": "[encoded data removed]",
      "text/plain": [
       "<Figure size 1080x576 with 2 Axes>"
      ]
     },
     "metadata": {
      "needs_background": "light"
     },
     "output_type": "display_data"
    }
   ],
   "source": [
    "fig, axes = plt.subplots(1, 2, figsize=(15, 8))\n",
    "\n",
    "axes[0].set_title(\"Emperical probs\")\n",
    "sns.barplot(x=np.arange(len(probs)), y=probs, color='red', ax=axes[0])\n",
    "\n",
    "axes[1].set_title(\"Theoretical probs\")\n",
    "sns.barplot(x=np.arange(len(theoretical_probs)), y=theoretical_probs, color='blue', ax=axes[1]) ;"
   ]
  },
  {
   "cell_type": "markdown",
   "id": "7cdf6eda",
   "metadata": {},
   "source": [
    "## Второй эксперимент"
   ]
  },
  {
   "cell_type": "markdown",
   "id": "dae6ba88",
   "metadata": {},
   "source": [
    "Параметры эксперимента:\n",
    " * количество каналов - 5\n",
    " * размер очереди - 5\n",
    " * интенсивность прихода в систему - 2\n",
    " * интенсивность обслуживания - 0.6\n",
    " * интенсивность выхода из очереди необслужанным - 1\n",
    " * отрезок времени симуляции - с 0 до 10000"
   ]
  },
  {
   "cell_type": "code",
   "execution_count": 22,
   "id": "393d958f",
   "metadata": {},
   "outputs": [],
   "source": [
    "simulator = Simulator(\n",
    "    n_channels=5,\n",
    "    queue_size=5,\n",
    "    arr_rate=2.,\n",
    "    serv_rate=0.6,\n",
    "    rej_rate=1\n",
    ")\n",
    "simulator.start(10000)\n",
    "probs, successes, failures = simulator.get_results()\n",
    "theoretical_probs = simulator.theoretical_probas()"
   ]
  },
  {
   "cell_type": "code",
   "execution_count": 23,
   "id": "891d0cb2",
   "metadata": {},
   "outputs": [
    {
     "data": {
      "text/plain": [
       "{'Rejection probability': 0.0005907877988003109,\n",
       " 'Absolute capacity': 1.9988184244023994,\n",
       " 'Average requests in queue': 0.15105436607855596,\n",
       " 'Average requests in system': 3.2137492976984805,\n",
       " 'Average time in queue': 0.07552718303927798,\n",
       " 'Average time in system': 1.6068746488492403,\n",
       " 'Average busy channels': 3.0626949316199243}"
      ]
     },
     "execution_count": 23,
     "metadata": {},
     "output_type": "execute_result"
    }
   ],
   "source": [
    "simulator.get_stats(probs)"
   ]
  },
  {
   "cell_type": "code",
   "execution_count": 24,
   "id": "28b49778",
   "metadata": {},
   "outputs": [
    {
     "data": {
      "text/plain": [
       "{'Rejection probability': 0.0005971732208418231,\n",
       " 'Absolute capacity': 1.9988056535583163,\n",
       " 'Average requests in queue': 0.15048765165213945,\n",
       " 'Average requests in system': 3.231017654829101,\n",
       " 'Average time in queue': 0.07524382582606973,\n",
       " 'Average time in system': 1.6155088274145506,\n",
       " 'Average busy channels': 3.080530003176962}"
      ]
     },
     "execution_count": 24,
     "metadata": {},
     "output_type": "execute_result"
    }
   ],
   "source": [
    "simulator.get_stats(theoretical_probs)"
   ]
  },
  {
   "cell_type": "code",
   "execution_count": 25,
   "id": "44076850",
   "metadata": {
    "scrolled": false
   },
   "outputs": [
    {
     "data": {
      "image/png": "[encoded data removed]",
      "text/plain": [
       "<Figure size 1080x576 with 2 Axes>"
      ]
     },
     "metadata": {
      "needs_background": "light"
     },
     "output_type": "display_data"
    }
   ],
   "source": [
    "fig, axes = plt.subplots(1, 2, figsize=(15, 8))\n",
    "\n",
    "axes[0].set_title(\"Emperical probs\")\n",
    "sns.barplot(x=np.arange(len(probs)), y=probs, color='red', ax=axes[0])\n",
    "\n",
    "axes[1].set_title(\"Theoretical probs\")\n",
    "sns.barplot(x=np.arange(len(theoretical_probs)), y=theoretical_probs, color='blue', ax=axes[1]) ;"
   ]
  },
  {
   "cell_type": "markdown",
   "id": "6140614c",
   "metadata": {},
   "source": [
    "## Третий эксперимент"
   ]
  },
  {
   "cell_type": "markdown",
   "id": "3029659e",
   "metadata": {},
   "source": [
    "Параметры эксперимента:\n",
    " * количество каналов - 2\n",
    " * размер очереди - 10\n",
    " * интенсивность прихода в систему - 5\n",
    " * интенсивность обслуживания - 10\n",
    " * интенсивность выхода из очереди необслужанным - 10\n",
    " * отрезок времени симуляции - с 0 до 10000"
   ]
  },
  {
   "cell_type": "code",
   "execution_count": 26,
   "id": "e72b0d16",
   "metadata": {},
   "outputs": [],
   "source": [
    "simulator = Simulator(\n",
    "    n_channels=2,\n",
    "    queue_size=10,\n",
    "    arr_rate=5.,\n",
    "    serv_rate=10,\n",
    "    rej_rate=10\n",
    ")\n",
    "simulator.start(10000)\n",
    "probs, successes, failures = simulator.get_results()\n",
    "theoretical_probs = simulator.theoretical_probas()"
   ]
  },
  {
   "cell_type": "code",
   "execution_count": 27,
   "id": "378a93d8",
   "metadata": {},
   "outputs": [
    {
     "data": {
      "text/plain": [
       "{'Rejection probability': 3.0872010196554393e-13,\n",
       " 'Absolute capacity': 4.999999999998456,\n",
       " 'Average requests in queue': 0.015915685390739395,\n",
       " 'Average requests in system': 0.4988700310262456,\n",
       " 'Average time in queue': 0.0031831370781478787,\n",
       " 'Average time in system': 0.09977400620524912,\n",
       " 'Average busy channels': 0.4829543456355062}"
      ]
     },
     "execution_count": 27,
     "metadata": {},
     "output_type": "execute_result"
    }
   ],
   "source": [
    "simulator.get_stats(probs)"
   ]
  },
  {
   "cell_type": "code",
   "execution_count": 28,
   "id": "2958a5ee",
   "metadata": {},
   "outputs": [
    {
     "data": {
      "text/plain": [
       "{'Rejection probability': 3.0914045870390933e-13,\n",
       " 'Absolute capacity': 4.999999999998455,\n",
       " 'Average requests in queue': 0.016326649281447687,\n",
       " 'Average requests in system': 0.49999999999984546,\n",
       " 'Average time in queue': 0.0032653298562895375,\n",
       " 'Average time in system': 0.09999999999996909,\n",
       " 'Average busy channels': 0.4836733507183978}"
      ]
     },
     "execution_count": 28,
     "metadata": {},
     "output_type": "execute_result"
    }
   ],
   "source": [
    "simulator.get_stats(theoretical_probs)"
   ]
  },
  {
   "cell_type": "code",
   "execution_count": 29,
   "id": "comprehensive-ar",
   "metadata": {
    "scrolled": false
   },
   "outputs": [
    {
     "data": {
      "image/png": "[encoded data removed]",
      "text/plain": [
       "<Figure size 1080x576 with 2 Axes>"
      ]
     },
     "metadata": {
      "needs_background": "light"
     },
     "output_type": "display_data"
    }
   ],
   "source": [
    "fig, axes = plt.subplots(1, 2, figsize=(15, 8))\n",
    "\n",
    "axes[0].set_title(\"Emperical probs\")\n",
    "sns.barplot(x=np.arange(len(probs)), y=probs, color='red', ax=axes[0])\n",
    "\n",
    "axes[1].set_title(\"Theoretical probs\")\n",
    "sns.barplot(x=np.arange(len(theoretical_probs)), y=theoretical_probs, color='blue', ax=axes[1]) ;"
   ]
  }
 ],
 "metadata": {
  "kernelspec": {
   "display_name": "Python 3 (ipykernel)",
   "language": "python",
   "name": "python3"
  },
  "language_info": {
   "codemirror_mode": {
    "name": "ipython",
    "version": 3
   },
   "file_extension": ".py",
   "mimetype": "text/x-python",
   "name": "python",
   "nbconvert_exporter": "python",
   "pygments_lexer": "ipython3",
   "version": "3.8.10"
  }
 },
 "nbformat": 4,
 "nbformat_minor": 5
}
